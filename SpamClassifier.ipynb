{
  "nbformat": 4,
  "nbformat_minor": 0,
  "metadata": {
    "colab": {
      "provenance": []
    },
    "kernelspec": {
      "name": "python3",
      "display_name": "Python 3"
    },
    "language_info": {
      "name": "python"
    }
  },
  "cells": [
    {
      "cell_type": "code",
      "source": [
        "!pip install wordnet\n",
        "nltk.download('wordnet')\n",
        "import wordnet"
      ],
      "metadata": {
        "colab": {
          "base_uri": "https://localhost:8080/"
        },
        "id": "wpzShah7ojVe",
        "outputId": "64dda3bd-8049-4f3d-ef76-49fdbb072acb"
      },
      "execution_count": 12,
      "outputs": [
        {
          "output_type": "stream",
          "name": "stdout",
          "text": [
            "Requirement already satisfied: wordnet in /usr/local/lib/python3.10/dist-packages (0.0.1b2)\n",
            "Requirement already satisfied: colorama==0.3.9 in /usr/local/lib/python3.10/dist-packages (from wordnet) (0.3.9)\n"
          ]
        },
        {
          "output_type": "stream",
          "name": "stderr",
          "text": [
            "[nltk_data] Downloading package wordnet to /root/nltk_data...\n"
          ]
        }
      ]
    },
    {
      "cell_type": "code",
      "source": [
        "# import dataset\n",
        "import pandas as pd\n",
        "messages = pd.read_csv('SMSSpamCollection.txt', sep='\\t', names = [\"label\",\"message\"])"
      ],
      "metadata": {
        "id": "OSZI7OCRj6J4"
      },
      "execution_count": 13,
      "outputs": []
    },
    {
      "cell_type": "code",
      "source": [
        "#Data cleaning and preprocessing\n",
        "import re\n",
        "import nltk\n",
        "nltk.download('stopwords')\n",
        "\n",
        "from nltk.corpus import stopwords\n",
        "from nltk.stem.porter import PorterStemmer\n",
        "from nltk.stem import WordNetLemmatizer\n",
        "wordNet = WordNetLemmatizer()\n",
        "ps = PorterStemmer()\n",
        "corpus = []\n",
        "for i in range(0, len(messages)):\n",
        "    review = re.sub('[^a-zA-Z]', ' ', messages['message'][i])\n",
        "    review = review.lower()\n",
        "    review = review.split()\n",
        "\n",
        "    # review = [ps.stem(word) for word in review if not word in stopwords.words('english')]\n",
        "    # review = ' '.join(review)\n",
        "    # corpus.append(review)\n",
        "\n",
        "    review = [wordNet.lemmatize(word) for word in review if not word in stopwords.words('english')]\n",
        "    review = ' '.join(review)\n",
        "    corpus.append(review)\n",
        "\n",
        "#try with lemmaztization and increase the performance"
      ],
      "metadata": {
        "colab": {
          "base_uri": "https://localhost:8080/"
        },
        "id": "kHERHKGTptPJ",
        "outputId": "1a485421-1e67-460a-e459-b2781d1e906c"
      },
      "execution_count": 14,
      "outputs": [
        {
          "output_type": "stream",
          "name": "stderr",
          "text": [
            "[nltk_data] Downloading package stopwords to /root/nltk_data...\n",
            "[nltk_data]   Package stopwords is already up-to-date!\n"
          ]
        }
      ]
    },
    {
      "cell_type": "code",
      "source": [
        "# create bag of words model\n",
        "# Creating the Bag of Words model\n",
        "# from sklearn.feature_extraction.text import CountVectorizer\n",
        "# cv = CountVectorizer(max_features=2500)\n",
        "# X = cv.fit_transform(corpus).toarray()\n",
        "\n",
        "# y=pd.get_dummies(messages['label'])\n",
        "# y=y.iloc[:,1].values\n",
        "\n",
        "\n",
        "#use tfidf here\n",
        "from sklearn.feature_extraction.text import TfidfVectorizer\n",
        "cv = TfidfVectorizer()\n",
        "X = cv.fit_transform(corpus).toarray()\n",
        "\n",
        "y=pd.get_dummies(messages['label'])\n",
        "y=y.iloc[:,1].values\n"
      ],
      "metadata": {
        "id": "-2bNly05C76C"
      },
      "execution_count": 15,
      "outputs": []
    },
    {
      "cell_type": "code",
      "source": [
        "# Train Test split\n",
        "from sklearn.model_selection import train_test_split\n",
        "X_train, X_test, y_train, y_test = train_test_split(X,y, test_size =0.20, random_state =0)"
      ],
      "metadata": {
        "id": "ThWlA4ciKBC8"
      },
      "execution_count": 16,
      "outputs": []
    },
    {
      "cell_type": "code",
      "source": [
        "# Train model using Naive bayes classifier\n",
        "from sklearn.naive_bayes import MultinomialNB\n",
        "spam_detect_model = MultinomialNB().fit(X_train,y_train)\n",
        "y_pred = spam_detect_model.predict(X_test)"
      ],
      "metadata": {
        "id": "o4k8skLvKqWm"
      },
      "execution_count": 17,
      "outputs": []
    },
    {
      "cell_type": "code",
      "source": [
        "y_pred"
      ],
      "metadata": {
        "colab": {
          "base_uri": "https://localhost:8080/"
        },
        "id": "BxmMHjZBLiHO",
        "outputId": "a28678ee-8dc5-42a5-d83a-719e3ffa1831"
      },
      "execution_count": 18,
      "outputs": [
        {
          "output_type": "execute_result",
          "data": {
            "text/plain": [
              "array([0, 0, 0, ..., 0, 1, 0], dtype=uint8)"
            ]
          },
          "metadata": {},
          "execution_count": 18
        }
      ]
    },
    {
      "cell_type": "code",
      "source": [
        "\n",
        "\n",
        "spam_messages = messages[messages['label'] == 'spam']\n",
        "print(spam_messages['message'])\n"
      ],
      "metadata": {
        "colab": {
          "base_uri": "https://localhost:8080/"
        },
        "id": "_M-BJZVJM_EY",
        "outputId": "4bd0c741-6492-4cf2-8a18-5aa8bb2655f9"
      },
      "execution_count": 19,
      "outputs": [
        {
          "output_type": "stream",
          "name": "stdout",
          "text": [
            "2       Free entry in 2 a wkly comp to win FA Cup fina...\n",
            "5       FreeMsg Hey there darling it's been 3 week's n...\n",
            "8       WINNER!! As a valued network customer you have...\n",
            "9       Had your mobile 11 months or more? U R entitle...\n",
            "11      SIX chances to win CASH! From 100 to 20,000 po...\n",
            "                              ...                        \n",
            "5537    Want explicit SEX in 30 secs? Ring 02073162414...\n",
            "5540    ASKED 3MOBILE IF 0870 CHATLINES INCLU IN FREE ...\n",
            "5547    Had your contract mobile 11 Mnths? Latest Moto...\n",
            "5566    REMINDER FROM O2: To get 2.50 pounds free call...\n",
            "5567    This is the 2nd time we have tried 2 contact u...\n",
            "Name: message, Length: 747, dtype: object\n"
          ]
        }
      ]
    },
    {
      "cell_type": "code",
      "source": [
        "from sklearn.metrics import confusion_matrix\n",
        "confusion_matrix = confusion_matrix(y_test, y_pred)\n",
        "confusion_m = confusion_matrix\n",
        "confusion_m"
      ],
      "metadata": {
        "colab": {
          "base_uri": "https://localhost:8080/"
        },
        "id": "2Q--b5jKNZu8",
        "outputId": "1399c24c-4ba8-4ebe-c6d0-c15c944c9d12"
      },
      "execution_count": 20,
      "outputs": [
        {
          "output_type": "execute_result",
          "data": {
            "text/plain": [
              "array([[955,   0],\n",
              "       [ 31, 129]])"
            ]
          },
          "metadata": {},
          "execution_count": 20
        }
      ]
    },
    {
      "cell_type": "code",
      "source": [
        "#accuracy\n",
        "from sklearn.metrics import accuracy_score\n",
        "accuracy = accuracy_score(y_test,y_pred)\n",
        "accuracy"
      ],
      "metadata": {
        "colab": {
          "base_uri": "https://localhost:8080/"
        },
        "id": "xfjz2JVo-z6Y",
        "outputId": "9d54538b-5c9c-4a60-9efb-bc650fc06ba7"
      },
      "execution_count": 21,
      "outputs": [
        {
          "output_type": "execute_result",
          "data": {
            "text/plain": [
              "0.9721973094170404"
            ]
          },
          "metadata": {},
          "execution_count": 21
        }
      ]
    },
    {
      "cell_type": "code",
      "source": [],
      "metadata": {
        "id": "9uWoNIO0BTWu"
      },
      "execution_count": 4,
      "outputs": []
    }
  ]
}